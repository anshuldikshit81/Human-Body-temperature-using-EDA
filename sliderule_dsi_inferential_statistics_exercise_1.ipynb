{
 "cells": [
  {
   "cell_type": "markdown",
   "metadata": {},
   "source": [
    "# What is the True Normal Human Body Temperature? \n",
    "\n",
    "#### Background\n",
    "\n",
    "The mean normal body temperature was held to be 37$^{\\circ}$C or 98.6$^{\\circ}$F for more than 120 years since it was first conceptualized and reported by Carl Wunderlich in a famous 1868 book. But, is this value statistically correct?"
   ]
  },
  {
   "cell_type": "markdown",
   "metadata": {},
   "source": [
    "<h3>Exercises</h3>\n",
    "\n",
    "<p>In this exercise, you will analyze a dataset of human body temperatures and employ the concepts of hypothesis testing, confidence intervals, and statistical significance.</p>\n",
    "\n",
    "<p>Answer the following questions <b>in this notebook below and submit to your Github account</b>.</p> \n",
    "\n",
    "<ol>\n",
    "<li>  Is the distribution of body temperatures normal? \n",
    "    <ul>\n",
    "    <li> Although this is not a requirement for the Central Limit Theorem to hold (read the introduction on Wikipedia's page about the CLT carefully: https://en.wikipedia.org/wiki/Central_limit_theorem), it gives us some peace of mind that the population may also be normally distributed if we assume that this sample is representative of the population.\n",
    "    <li> Think about the way you're going to check for the normality of the distribution. Graphical methods are usually used first, but there are also other ways: https://en.wikipedia.org/wiki/Normality_test\n",
    "    </ul>\n",
    "<li>  Is the sample size large? Are the observations independent?\n",
    "    <ul>\n",
    "    <li> Remember that this is a condition for the Central Limit Theorem, and hence the statistical tests we are using, to apply.\n",
    "    </ul>\n",
    "<li>  Is the true population mean really 98.6 degrees F?\n",
    "    <ul>\n",
    "    <li> First, try a bootstrap hypothesis test.\n",
    "    <li> Now, let's try frequentist statistical testing. Would you use a one-sample or two-sample test? Why?\n",
    "    <li> In this situation, is it appropriate to use the $t$ or $z$ statistic? \n",
    "    <li> Now try using the other test. How is the result be different? Why?\n",
    "    </ul>\n",
    "<li>  Draw a small sample of size 10 from the data and repeat both frequentist tests. \n",
    "    <ul>\n",
    "    <li> Which one is the correct one to use? \n",
    "    <li> What do you notice? What does this tell you about the difference in application of the $t$ and $z$ statistic?\n",
    "    </ul>\n",
    "<li>  At what temperature should we consider someone's temperature to be \"abnormal\"?\n",
    "    <ul>\n",
    "    <li> As in the previous example, try calculating everything using the boostrap approach, as well as the frequentist approach.\n",
    "    <li> Start by computing the margin of error and confidence interval. When calculating the confidence interval, keep in mind that you should use the appropriate formula for one draw, and not N draws.\n",
    "    </ul>\n",
    "<li>  Is there a significant difference between males and females in normal temperature?\n",
    "    <ul>\n",
    "    <li> What testing approach did you use and why?\n",
    "    <li> Write a story with your conclusion in the context of the original problem.\n",
    "    </ul>\n",
    "</ol>\n",
    "\n",
    "You can include written notes in notebook cells using Markdown: \n",
    "   - In the control panel at the top, choose Cell > Cell Type > Markdown\n",
    "   - Markdown syntax: http://nestacms.com/docs/creating-content/markdown-cheat-sheet\n",
    "\n",
    "#### Resources\n",
    "\n",
    "+ Information and data sources: http://www.amstat.org/publications/jse/datasets/normtemp.txt, http://www.amstat.org/publications/jse/jse_data_archive.htm\n",
    "+ Markdown syntax: http://nestacms.com/docs/creating-content/markdown-cheat-sheet\n",
    "\n",
    "****"
   ]
  },
  {
   "cell_type": "code",
   "execution_count": 2,
   "metadata": {},
   "outputs": [],
   "source": [
    "import pandas as pd\n",
    "\n",
    "df = pd.read_csv('data/human_body_temperature.csv')"
   ]
  },
  {
   "cell_type": "code",
   "execution_count": 3,
   "metadata": {},
   "outputs": [
    {
     "data": {
      "text/html": [
       "<div>\n",
       "<style scoped>\n",
       "    .dataframe tbody tr th:only-of-type {\n",
       "        vertical-align: middle;\n",
       "    }\n",
       "\n",
       "    .dataframe tbody tr th {\n",
       "        vertical-align: top;\n",
       "    }\n",
       "\n",
       "    .dataframe thead th {\n",
       "        text-align: right;\n",
       "    }\n",
       "</style>\n",
       "<table border=\"1\" class=\"dataframe\">\n",
       "  <thead>\n",
       "    <tr style=\"text-align: right;\">\n",
       "      <th></th>\n",
       "      <th>temperature</th>\n",
       "      <th>gender</th>\n",
       "      <th>heart_rate</th>\n",
       "    </tr>\n",
       "  </thead>\n",
       "  <tbody>\n",
       "    <tr>\n",
       "      <th>0</th>\n",
       "      <td>99.3</td>\n",
       "      <td>F</td>\n",
       "      <td>68.0</td>\n",
       "    </tr>\n",
       "    <tr>\n",
       "      <th>1</th>\n",
       "      <td>98.4</td>\n",
       "      <td>F</td>\n",
       "      <td>81.0</td>\n",
       "    </tr>\n",
       "    <tr>\n",
       "      <th>2</th>\n",
       "      <td>97.8</td>\n",
       "      <td>M</td>\n",
       "      <td>73.0</td>\n",
       "    </tr>\n",
       "    <tr>\n",
       "      <th>3</th>\n",
       "      <td>99.2</td>\n",
       "      <td>F</td>\n",
       "      <td>66.0</td>\n",
       "    </tr>\n",
       "    <tr>\n",
       "      <th>4</th>\n",
       "      <td>98.0</td>\n",
       "      <td>F</td>\n",
       "      <td>73.0</td>\n",
       "    </tr>\n",
       "    <tr>\n",
       "      <th>5</th>\n",
       "      <td>99.2</td>\n",
       "      <td>M</td>\n",
       "      <td>83.0</td>\n",
       "    </tr>\n",
       "    <tr>\n",
       "      <th>6</th>\n",
       "      <td>98.0</td>\n",
       "      <td>M</td>\n",
       "      <td>71.0</td>\n",
       "    </tr>\n",
       "    <tr>\n",
       "      <th>7</th>\n",
       "      <td>98.8</td>\n",
       "      <td>M</td>\n",
       "      <td>78.0</td>\n",
       "    </tr>\n",
       "    <tr>\n",
       "      <th>8</th>\n",
       "      <td>98.4</td>\n",
       "      <td>F</td>\n",
       "      <td>84.0</td>\n",
       "    </tr>\n",
       "    <tr>\n",
       "      <th>9</th>\n",
       "      <td>98.6</td>\n",
       "      <td>F</td>\n",
       "      <td>86.0</td>\n",
       "    </tr>\n",
       "  </tbody>\n",
       "</table>\n",
       "</div>"
      ],
      "text/plain": [
       "   temperature gender  heart_rate\n",
       "0         99.3      F        68.0\n",
       "1         98.4      F        81.0\n",
       "2         97.8      M        73.0\n",
       "3         99.2      F        66.0\n",
       "4         98.0      F        73.0\n",
       "5         99.2      M        83.0\n",
       "6         98.0      M        71.0\n",
       "7         98.8      M        78.0\n",
       "8         98.4      F        84.0\n",
       "9         98.6      F        86.0"
      ]
     },
     "execution_count": 3,
     "metadata": {},
     "output_type": "execute_result"
    }
   ],
   "source": [
    "df.head(10)"
   ]
  },
  {
   "cell_type": "markdown",
   "metadata": {},
   "source": [
    "# Theoritical CDF and ECDF of the data"
   ]
  },
  {
   "cell_type": "markdown",
   "metadata": {},
   "source": [
    "Lets compute the array's theoretical CDF with 100,000 random samples and overlay it with the data's actual ecdf to verify if the data is normally distributed or not"
   ]
  },
  {
   "cell_type": "code",
   "execution_count": 7,
   "metadata": {},
   "outputs": [],
   "source": [
    "import numpy as np\n",
    "import matplotlib.pyplot as plt\n",
    "temp = np.array(df['temperature'])"
   ]
  },
  {
   "cell_type": "code",
   "execution_count": 8,
   "metadata": {},
   "outputs": [
    {
     "data": {
      "image/png": "[encoded data removed]",
      "text/plain": [
       "<matplotlib.figure.Figure at 0x20ce638c940>"
      ]
     },
     "metadata": {},
     "output_type": "display_data"
    }
   ],
   "source": [
    "#Getting the mean and standard deviation of the data\n",
    "temp_mean = np.mean(temp)\n",
    "temp_std = np.std(temp)\n",
    "\n",
    "#Getting 100,000 random samples from our data to compute it's theoretical CDF\n",
    "cdf_temp = np.random.normal(temp_mean,temp_std, size=100000)\n",
    "\n",
    "_ = plt.hist(cdf_temp, bins = 100 , normed = True , histtype = 'step')\n",
    "\n",
    "#Writing a function that computes the data to visualize the ecdf of an array\n",
    "def ecdf(array:'nump array'):\n",
    "    n = len(array)\n",
    "    x = np.sort(array)\n",
    "    y = np.arange(1 , n + 1) / n\n",
    "    \n",
    "    return x,y\n",
    "\n",
    "#Computing the x_axis and y_axis values to visualize the ecdf of our data\n",
    "temp_x_ecdf, temp_y_ecdf = ecdf(temp)\n",
    "\n",
    "#Plotting it on the same graph as our theoretical CDF\n",
    "_ = plt.plot(temp_x_ecdf, temp_y_ecdf, marker = '.', linestyle = 'none')\n",
    "\n",
    "_ = plt.legend(('ecdf', 'Theoretical CDF'), loc='lower right')\n",
    "plt.show()"
   ]
  },
  {
   "cell_type": "markdown",
   "metadata": {},
   "source": [
    "###### Conclusion: The theoretical CDF of the probability distribution of our data contains a symmetrical peak and with the overlayed ecdf of our data we can conclude that our data is normally distributed"
   ]
  },
  {
   "cell_type": "markdown",
   "metadata": {},
   "source": [
    "# 2. Sample size"
   ]
  },
  {
   "cell_type": "code",
   "execution_count": 9,
   "metadata": {},
   "outputs": [
    {
     "data": {
      "text/plain": [
       "130"
      ]
     },
     "execution_count": 9,
     "metadata": {},
     "output_type": "execute_result"
    }
   ],
   "source": [
    "n = len(temp)\n",
    "n"
   ]
  },
  {
   "cell_type": "markdown",
   "metadata": {},
   "source": [
    "##### Conclusion: Sample size (n) > 30,so sample size is good as per the Central Limit Theorem. The observations are also independent as the body temperature of an individual is always independent of other person's body temeprature"
   ]
  },
  {
   "cell_type": "markdown",
   "metadata": {},
   "source": [
    "# 3. Getting the true population mean"
   ]
  },
  {
   "cell_type": "markdown",
   "metadata": {},
   "source": [
    "To test the null hypothesis that the true mean of the data is 98.6 degree Fahrenheit.\n",
    "\n",
    "I will use a one sample test because we are only interested in the mean of one population and the T-test because even though the sample size is large enough to apply a Z-test (n > 30), we do not know the population standard deviation.\n",
    "\n",
    "Under these circumstances a one sample T-test would help us best test our null hypothesis.\n",
    "\n",
    "The T-statistic for testing our hypothesis is the difference between the theoretical true mean (98.6 degree Fahrenheit) and the computed sample mean\n",
    "\n",
    "I will shift the mean of the sample to the theoretical true mean(98.6 degree Fahremheit) to stimulate data under the assumption that the null hypothesis is true.\n",
    "\n",
    "I will use bootstrap resampling to generate 100,000 boostrap replicates to compare against the observed diiference in the true mean and the sample mean in degree Farenheit in order to determine statistical significance using the computed p-value."
   ]
  },
  {
   "cell_type": "code",
   "execution_count": 10,
   "metadata": {},
   "outputs": [
    {
     "name": "stdout",
     "output_type": "stream",
     "text": [
      "P-value\n"
     ]
    },
    {
     "data": {
      "text/plain": [
       "0.0"
      ]
     },
     "execution_count": 10,
     "metadata": {},
     "output_type": "execute_result"
    }
   ],
   "source": [
    "#Computing observed difference between the theoretical true mean and the actual sample mean\n",
    "actual_difference = 98.6 - np.mean(temp)\n",
    "\n",
    "#Shifting the mean\n",
    "temp_shifted = temp - np.mean(temp) + 98.6\n",
    "\n",
    "#Computing 100,000 bootstrap replicates from the shifted_array under the null hypothesis \n",
    "bs_replicates = np.empty(100000)\n",
    "\n",
    "for i in range(100000):\n",
    "    bs_sample = np.random.choice(temp_shifted, len(temp_shifted))\n",
    "    bs_sample_mean = np.mean(bs_sample)\n",
    "    test_statistic = 98.6 - bs_sample_mean\n",
    "    bs_replicates[i] = test_statistic\n",
    "  \n",
    "#Computing the p-value from the boostrap replicates\n",
    "\n",
    "p_value = np.sum(bs_replicates >= actual_difference) / len(bs_replicates)\n",
    "print('P-value')\n",
    "p_value"
   ]
  },
  {
   "cell_type": "markdown",
   "metadata": {},
   "source": [
    "##### Conclusion: The p-value is extremely small. This means that under the assumption that null hypothesis is true , the difference between the theoretical true mean and the boostrap resample means was at least as big as the observed diffference between the theoretical true mean and the actual sample mean, less than 1% of the time. This implies that the observed differnce in the sample mean and the theoretical mean is not due to chance and the mean of the human body temperature is closer to 98.2 degress Fahrenheit and we can reject our null hypothesis."
   ]
  },
  {
   "cell_type": "markdown",
   "metadata": {},
   "source": [
    "# 4. Drawing a smaller sample of 10 from our sample and repeating our hypothesis test"
   ]
  },
  {
   "cell_type": "code",
   "execution_count": 11,
   "metadata": {},
   "outputs": [
    {
     "name": "stdout",
     "output_type": "stream",
     "text": [
      "P-value:\n"
     ]
    },
    {
     "data": {
      "text/plain": [
       "0.06146"
      ]
     },
     "execution_count": 11,
     "metadata": {},
     "output_type": "execute_result"
    }
   ],
   "source": [
    "#Computing observed difference between the theoretical true mean and the actual sample mean\n",
    "actual_difference = 98.6 - np.mean(temp)\n",
    "\n",
    "#Shifting the mean\n",
    "temp_shifted = temp - np.mean(temp) + 98.6\n",
    "\n",
    "#Computing 100,000 bootstrap replicates from the shifted_array under the null hypothesis with only 10 samples\n",
    "bs_replicates = np.empty(100000)\n",
    "\n",
    "for i in range(100000):\n",
    "    bs_sample = np.random.choice(temp_shifted, 10)\n",
    "    bs_sample_mean = np.mean(bs_sample)\n",
    "    test_statistic = 98.6 - bs_sample_mean\n",
    "    bs_replicates[i] = test_statistic\n",
    "  \n",
    "#Computing the p-value from the boostrap replicates\n",
    "\n",
    "p_value = np.sum(bs_replicates >= actual_difference) / len(bs_replicates)\n",
    "print('P-value:')\n",
    "p_value"
   ]
  },
  {
   "cell_type": "markdown",
   "metadata": {},
   "source": [
    "##### Conclusion: when we draw a sample of 10 instead of 130, according to our p-value we observe that the difference between the theoretical true mean and the boostrap resample means was at least as big as the observed diffference between the theoretical true mean and the actual sample mean, about 6.4% of the time. This value is not statistically significant as it is more that 0.01 , but practically it is still a very small number and we should still conclude acording to this data that the average human body temperature is closer to 98.2 degree Fahrenheit and reject our null hypothesis"
   ]
  },
  {
   "cell_type": "markdown",
   "metadata": {},
   "source": [
    "# Confidence Interval for 'normal' mean tempertaure with the margin of error\n",
    "To calculate the 95% confidence interval for our data, we will again generate 100,000 boostrap replicates (mean) and find the 2.5th and the 97.5th percentile\n",
    "\n",
    "Again, since we do not have the population standard deviation we will use the standard error of the sample mean and our t-statistic to calculate the margin of error for our sample."
   ]
  },
  {
   "cell_type": "code",
   "execution_count": 12,
   "metadata": {},
   "outputs": [
    {
     "name": "stdout",
     "output_type": "stream",
     "text": [
      "95% Confidence Intervals:\n",
      "[98.12384615 98.37461538]\n",
      "Margin of Error:\n",
      "0.022469089462314906\n"
     ]
    }
   ],
   "source": [
    "#Calculating the 95% confidence interval \n",
    "bs_replicate = np.empty(100000)\n",
    "for i in range(100000):\n",
    "    bs_sample = np.random.choice(temp,len(temp))\n",
    "    bs_sample_mean = np.mean(bs_sample)\n",
    "    bs_replicate[i] = bs_sample_mean\n",
    "    \n",
    "print('95% Confidence Intervals:')\n",
    "print(np.percentile(bs_replicate,[2.5,97.5]))\n",
    "\n",
    "#Calculating the margin of error using the sample standard error and test statistic\n",
    "standard_error = np.std(temp) / np.sqrt(len(temp))\n",
    "test_stat = 98.6 - np.mean(temp)\n",
    "\n",
    "MOE = standard_error * test_stat\n",
    "print('Margin of Error:')\n",
    "print(MOE)"
   ]
  },
  {
   "cell_type": "markdown",
   "metadata": {},
   "source": [
    "##### Conclusion: 95% of the resampled mean of our sample data lie between 98.123 degree Fahrenheit and 98.375 degree Fahrenheit which could be considered normal with a margin of error of 0.0224 degree Fahrenheit."
   ]
  },
  {
   "cell_type": "markdown",
   "metadata": {},
   "source": [
    "# 6. Difference between male and female in normal temperature\n",
    "After plotting the empirical cummulative distribution function of the male and female body temperature separately we observe that their distribution is not similar. The mean of the female body temperature is higher than the male body temperature by an actual difference of 0.2892 degrees Fahrenheit.\n",
    "\n",
    "To cofirm this I will conduct a hypothesis test using 100,000 permutation samples under the assumption of the null hypothesis, which here is that there is no significant difference between the male and female in normal body temperature.\n",
    "\n",
    "I will generate 100,000 permutation replicates of our t-statistic(difference in mean) to calculate the p-value to see if we can reject the null hypothesis."
   ]
  },
  {
   "cell_type": "code",
   "execution_count": 14,
   "metadata": {},
   "outputs": [
    {
     "data": {
      "image/png": "[encoded data removed]",
      "text/plain": [
       "<matplotlib.figure.Figure at 0x20ce6bef6d8>"
      ]
     },
     "metadata": {},
     "output_type": "display_data"
    },
    {
     "name": "stdout",
     "output_type": "stream",
     "text": [
      "Actual difference in mean:\n",
      "0.2892307692307696 degrees Fahrenheit\n"
     ]
    }
   ],
   "source": [
    "#Separating body temperatures by gender\n",
    "male_filter = df['gender'] == 'M'\n",
    "male_info = df.loc[male_filter]\n",
    "male_temp = np.array(male_info['temperature'])\n",
    "\n",
    "\n",
    "female_filter = df['gender'] == 'F'\n",
    "female_info = df.loc[female_filter]\n",
    "female_temp = np.array(female_info['temperature'])\n",
    "\n",
    "#Plotting the ecdf\n",
    "female_x, female_y = ecdf(female_temp)\n",
    "male_x, male_y = ecdf(male_temp)\n",
    "\n",
    "plt.plot(female_x, female_y, marker = '.', linestyle='none')\n",
    "plt.plot(male_x, male_y, marker = '.', linestyle = 'none')\n",
    "\n",
    "plt.margins(0.02)\n",
    "plt.legend(('female','male'))\n",
    "\n",
    "plt.show()\n",
    "observed_statistic = np.mean(female_temp) - np.mean(male_temp)\n",
    "\n",
    "print('Actual difference in mean:')\n",
    "print(observed_statistic , 'degrees Fahrenheit')"
   ]
  },
  {
   "cell_type": "markdown",
   "metadata": {},
   "source": [
    "##### Conclusion:  We can conclude that there are some differences between male and female in normal temperature"
   ]
  },
  {
   "cell_type": "code",
   "execution_count": null,
   "metadata": {},
   "outputs": [],
   "source": []
  }
 ],
 "metadata": {
  "kernelspec": {
   "display_name": "Python 3",
   "language": "python",
   "name": "python3"
  },
  "language_info": {
   "codemirror_mode": {
    "name": "ipython",
    "version": 3
   },
   "file_extension": ".py",
   "mimetype": "text/x-python",
   "name": "python",
   "nbconvert_exporter": "python",
   "pygments_lexer": "ipython3",
   "version": "3.6.4"
  }
 },
 "nbformat": 4,
 "nbformat_minor": 1
}
